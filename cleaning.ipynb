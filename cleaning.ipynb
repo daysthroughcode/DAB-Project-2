{
 "metadata": {
  "language_info": {
   "codemirror_mode": {
    "name": "ipython",
    "version": 3
   },
   "file_extension": ".py",
   "mimetype": "text/x-python",
   "name": "python",
   "nbconvert_exporter": "python",
   "pygments_lexer": "ipython3",
   "version": "3.8.3-final"
  },
  "orig_nbformat": 2,
  "kernelspec": {
   "name": "python3",
   "display_name": "Python 3",
   "language": "python"
  }
 },
 "nbformat": 4,
 "nbformat_minor": 2,
 "cells": [
  {
   "cell_type": "code",
   "execution_count": 1,
   "metadata": {},
   "outputs": [],
   "source": [
    "import pandas as pd\n",
    "import datetime as dt"
   ]
  },
  {
   "cell_type": "code",
   "execution_count": 2,
   "metadata": {},
   "outputs": [],
   "source": [
    "path = \"0-Data/AirplaneCrashesFinal.csv\""
   ]
  },
  {
   "cell_type": "code",
   "execution_count": 3,
   "metadata": {},
   "outputs": [],
   "source": [
    "aircraft_data = pd.read_csv(path)"
   ]
  },
  {
   "cell_type": "code",
   "execution_count": 4,
   "metadata": {},
   "outputs": [
    {
     "output_type": "execute_result",
     "data": {
      "text/plain": [
       "   Unnamed: 0        Date   Time                Operator Flight #  \\\n",
       "0           0  17/09/1908  17:18    Military - U.S. Army      NaN   \n",
       "1           1   7/09/1909    NaN                     NaN      NaN   \n",
       "2           2  12/07/1912   6:30    Military - U.S. Navy      NaN   \n",
       "3           3   6/08/1913    NaN                 Private      NaN   \n",
       "4           4   9/09/1913  18:30  Military - German Navy      NaN   \n",
       "\n",
       "           Route                 AC Type Registration cn/ln  Aboard  ...  \\\n",
       "0  Demonstration        Wright Flyer III          NaN     1     2.0  ...   \n",
       "1                         Wright Byplane          SC1   NaN     1.0  ...   \n",
       "2    Test flight               Dirigible          NaN   NaN     5.0  ...   \n",
       "3            NaN        Curtiss seaplane          NaN   NaN     1.0  ...   \n",
       "4            NaN  Zeppelin L-1 (airship)          NaN   NaN    20.0  ...   \n",
       "\n",
       "   Aboard Crew  Fatalities  Fatalities Passengers  Fatalities Crew  Ground  \\\n",
       "0          1.0         1.0                    1.0              0.0     0.0   \n",
       "1          1.0         1.0                    0.0              0.0     0.0   \n",
       "2          5.0         5.0                    0.0              5.0     0.0   \n",
       "3          1.0         1.0                    0.0              1.0     0.0   \n",
       "4          NaN        14.0                    NaN              NaN     0.0   \n",
       "\n",
       "                                             Summary  \\\n",
       "0  During a demonstration flight, a U.S. Army fly...   \n",
       "1  Eugene Lefebvre was the first pilot to ever be...   \n",
       "2  First U.S. dirigible Akron exploded just offsh...   \n",
       "3  The first fatal airplane accident in Canada oc...   \n",
       "4  The airship flew into a thunderstorm and encou...   \n",
       "\n",
       "                             Location   Latitude   Longitude  \\\n",
       "0                 Fort Myer, Virginia  38.877461  -77.080828   \n",
       "1             Juvisy-sur-Orge, France  48.690406    2.373809   \n",
       "2           Atlantic City, New Jersey  39.364285  -74.422935   \n",
       "3  Victoria, British Columbia, Canada  48.428318 -123.364953   \n",
       "4                       the North Sea  56.741234    2.891172   \n",
       "\n",
       "                                       geometry  \n",
       "0          POINT (38.877461 -77.08082799848259)  \n",
       "1                   POINT (48.6904063 2.373809)  \n",
       "2  POINT (39.36428520000001 -74.42293509999998)  \n",
       "3               POINT (48.4283182 -123.3649533)  \n",
       "4          POINT (56.74123355 2.89117171668805)  \n",
       "\n",
       "[5 rows x 21 columns]"
      ],
      "text/html": "<div>\n<style scoped>\n    .dataframe tbody tr th:only-of-type {\n        vertical-align: middle;\n    }\n\n    .dataframe tbody tr th {\n        vertical-align: top;\n    }\n\n    .dataframe thead th {\n        text-align: right;\n    }\n</style>\n<table border=\"1\" class=\"dataframe\">\n  <thead>\n    <tr style=\"text-align: right;\">\n      <th></th>\n      <th>Unnamed: 0</th>\n      <th>Date</th>\n      <th>Time</th>\n      <th>Operator</th>\n      <th>Flight #</th>\n      <th>Route</th>\n      <th>AC Type</th>\n      <th>Registration</th>\n      <th>cn/ln</th>\n      <th>Aboard</th>\n      <th>...</th>\n      <th>Aboard Crew</th>\n      <th>Fatalities</th>\n      <th>Fatalities Passengers</th>\n      <th>Fatalities Crew</th>\n      <th>Ground</th>\n      <th>Summary</th>\n      <th>Location</th>\n      <th>Latitude</th>\n      <th>Longitude</th>\n      <th>geometry</th>\n    </tr>\n  </thead>\n  <tbody>\n    <tr>\n      <th>0</th>\n      <td>0</td>\n      <td>17/09/1908</td>\n      <td>17:18</td>\n      <td>Military - U.S. Army</td>\n      <td>NaN</td>\n      <td>Demonstration</td>\n      <td>Wright Flyer III</td>\n      <td>NaN</td>\n      <td>1</td>\n      <td>2.0</td>\n      <td>...</td>\n      <td>1.0</td>\n      <td>1.0</td>\n      <td>1.0</td>\n      <td>0.0</td>\n      <td>0.0</td>\n      <td>During a demonstration flight, a U.S. Army fly...</td>\n      <td>Fort Myer, Virginia</td>\n      <td>38.877461</td>\n      <td>-77.080828</td>\n      <td>POINT (38.877461 -77.08082799848259)</td>\n    </tr>\n    <tr>\n      <th>1</th>\n      <td>1</td>\n      <td>7/09/1909</td>\n      <td>NaN</td>\n      <td>NaN</td>\n      <td>NaN</td>\n      <td></td>\n      <td>Wright Byplane</td>\n      <td>SC1</td>\n      <td>NaN</td>\n      <td>1.0</td>\n      <td>...</td>\n      <td>1.0</td>\n      <td>1.0</td>\n      <td>0.0</td>\n      <td>0.0</td>\n      <td>0.0</td>\n      <td>Eugene Lefebvre was the first pilot to ever be...</td>\n      <td>Juvisy-sur-Orge, France</td>\n      <td>48.690406</td>\n      <td>2.373809</td>\n      <td>POINT (48.6904063 2.373809)</td>\n    </tr>\n    <tr>\n      <th>2</th>\n      <td>2</td>\n      <td>12/07/1912</td>\n      <td>6:30</td>\n      <td>Military - U.S. Navy</td>\n      <td>NaN</td>\n      <td>Test flight</td>\n      <td>Dirigible</td>\n      <td>NaN</td>\n      <td>NaN</td>\n      <td>5.0</td>\n      <td>...</td>\n      <td>5.0</td>\n      <td>5.0</td>\n      <td>0.0</td>\n      <td>5.0</td>\n      <td>0.0</td>\n      <td>First U.S. dirigible Akron exploded just offsh...</td>\n      <td>Atlantic City, New Jersey</td>\n      <td>39.364285</td>\n      <td>-74.422935</td>\n      <td>POINT (39.36428520000001 -74.42293509999998)</td>\n    </tr>\n    <tr>\n      <th>3</th>\n      <td>3</td>\n      <td>6/08/1913</td>\n      <td>NaN</td>\n      <td>Private</td>\n      <td>NaN</td>\n      <td>NaN</td>\n      <td>Curtiss seaplane</td>\n      <td>NaN</td>\n      <td>NaN</td>\n      <td>1.0</td>\n      <td>...</td>\n      <td>1.0</td>\n      <td>1.0</td>\n      <td>0.0</td>\n      <td>1.0</td>\n      <td>0.0</td>\n      <td>The first fatal airplane accident in Canada oc...</td>\n      <td>Victoria, British Columbia, Canada</td>\n      <td>48.428318</td>\n      <td>-123.364953</td>\n      <td>POINT (48.4283182 -123.3649533)</td>\n    </tr>\n    <tr>\n      <th>4</th>\n      <td>4</td>\n      <td>9/09/1913</td>\n      <td>18:30</td>\n      <td>Military - German Navy</td>\n      <td>NaN</td>\n      <td>NaN</td>\n      <td>Zeppelin L-1 (airship)</td>\n      <td>NaN</td>\n      <td>NaN</td>\n      <td>20.0</td>\n      <td>...</td>\n      <td>NaN</td>\n      <td>14.0</td>\n      <td>NaN</td>\n      <td>NaN</td>\n      <td>0.0</td>\n      <td>The airship flew into a thunderstorm and encou...</td>\n      <td>the North Sea</td>\n      <td>56.741234</td>\n      <td>2.891172</td>\n      <td>POINT (56.74123355 2.89117171668805)</td>\n    </tr>\n  </tbody>\n</table>\n<p>5 rows × 21 columns</p>\n</div>"
     },
     "metadata": {},
     "execution_count": 4
    }
   ],
   "source": [
    "aircraft_data.head(5)"
   ]
  },
  {
   "cell_type": "code",
   "execution_count": 5,
   "metadata": {},
   "outputs": [
    {
     "output_type": "execute_result",
     "data": {
      "text/plain": [
       "(4967, 21)"
      ]
     },
     "metadata": {},
     "execution_count": 5
    }
   ],
   "source": [
    "working_data = aircraft_data\n",
    "working_data.shape"
   ]
  },
  {
   "cell_type": "code",
   "execution_count": 6,
   "metadata": {},
   "outputs": [
    {
     "output_type": "execute_result",
     "data": {
      "text/plain": [
       "Unnamed: 0                  0\n",
       "Date                        0\n",
       "Time                     1510\n",
       "Operator                   10\n",
       "Flight #                 3652\n",
       "Route                     774\n",
       "AC Type                    15\n",
       "Registration              273\n",
       "cn/ln                     668\n",
       "Aboard                     18\n",
       "Aboard Passengers         229\n",
       "Aboard Crew               226\n",
       "Fatalities                  8\n",
       "Fatalities Passengers     242\n",
       "Fatalities Crew           241\n",
       "Ground                     41\n",
       "Summary                    64\n",
       "Location                    4\n",
       "Latitude                    4\n",
       "Longitude                   4\n",
       "geometry                    0\n",
       "dtype: int64"
      ]
     },
     "metadata": {},
     "execution_count": 6
    }
   ],
   "source": [
    "working_data.isna().sum()"
   ]
  },
  {
   "cell_type": "code",
   "execution_count": 7,
   "metadata": {},
   "outputs": [],
   "source": [
    "cln_data = working_data.drop(columns = [\"Flight #\" , \"Time\", \"cn/ln\", \"Summary\", \"Registration\"])"
   ]
  },
  {
   "cell_type": "code",
   "execution_count": 8,
   "metadata": {},
   "outputs": [
    {
     "output_type": "execute_result",
     "data": {
      "text/plain": [
       "(4090, 16)"
      ]
     },
     "metadata": {},
     "execution_count": 8
    }
   ],
   "source": [
    "cln_data.dropna(inplace = True)\n",
    "cln_data.shape"
   ]
  },
  {
   "cell_type": "code",
   "execution_count": 9,
   "metadata": {},
   "outputs": [
    {
     "output_type": "execute_result",
     "data": {
      "text/plain": [
       "    Unnamed: 0       Date                   Operator                Route  \\\n",
       "0            0 1908-09-17       Military - U.S. Army        Demonstration   \n",
       "2            2 1912-07-12       Military - U.S. Navy          Test flight   \n",
       "27          27 1919-08-02            Caproni Company      Venice  Taliedo   \n",
       "32          32 1919-12-11  Aircraft Travel Transport     Paris - Hounslow   \n",
       "34          34 1920-03-30     US Aerial Mail Service  Washington - Newark   \n",
       "\n",
       "              AC Type  Aboard  Aboard Passengers  Aboard Crew  Fatalities  \\\n",
       "0    Wright Flyer III     2.0                1.0          1.0         1.0   \n",
       "2           Dirigible     5.0                0.0          5.0         5.0   \n",
       "27      Caproni Ca.48    14.0               12.0          2.0        14.0   \n",
       "32  de Havilland DH-4     1.0                1.0          1.0         1.0   \n",
       "34  De Havilland DH-4     1.0                0.0          1.0         1.0   \n",
       "\n",
       "    Fatalities Passengers  Fatalities Crew  Ground                   Location  \\\n",
       "0                     1.0              0.0     0.0        Fort Myer, Virginia   \n",
       "2                     0.0              5.0     0.0  Atlantic City, New Jersey   \n",
       "27                   12.0              2.0     0.0              Verona, Italy   \n",
       "32                    1.0              1.0     0.0      Catherham, Surrey, UK   \n",
       "34                    0.0              1.0     0.0         Newark, New Jersey   \n",
       "\n",
       "     Latitude  Longitude                                      geometry  \n",
       "0   38.877461 -77.080828          POINT (38.877461 -77.08082799848259)  \n",
       "2   39.364285 -74.422935  POINT (39.36428520000001 -74.42293509999998)  \n",
       "27  45.438496  10.992412                 POINT (45.4384958 10.9924122)  \n",
       "32  51.253434  -0.474562           POINT (51.25343400000001 -0.474562)  \n",
       "34  40.735657 -74.172367                 POINT (40.735657 -74.1723667)  "
      ],
      "text/html": "<div>\n<style scoped>\n    .dataframe tbody tr th:only-of-type {\n        vertical-align: middle;\n    }\n\n    .dataframe tbody tr th {\n        vertical-align: top;\n    }\n\n    .dataframe thead th {\n        text-align: right;\n    }\n</style>\n<table border=\"1\" class=\"dataframe\">\n  <thead>\n    <tr style=\"text-align: right;\">\n      <th></th>\n      <th>Unnamed: 0</th>\n      <th>Date</th>\n      <th>Operator</th>\n      <th>Route</th>\n      <th>AC Type</th>\n      <th>Aboard</th>\n      <th>Aboard Passengers</th>\n      <th>Aboard Crew</th>\n      <th>Fatalities</th>\n      <th>Fatalities Passengers</th>\n      <th>Fatalities Crew</th>\n      <th>Ground</th>\n      <th>Location</th>\n      <th>Latitude</th>\n      <th>Longitude</th>\n      <th>geometry</th>\n    </tr>\n  </thead>\n  <tbody>\n    <tr>\n      <th>0</th>\n      <td>0</td>\n      <td>1908-09-17</td>\n      <td>Military - U.S. Army</td>\n      <td>Demonstration</td>\n      <td>Wright Flyer III</td>\n      <td>2.0</td>\n      <td>1.0</td>\n      <td>1.0</td>\n      <td>1.0</td>\n      <td>1.0</td>\n      <td>0.0</td>\n      <td>0.0</td>\n      <td>Fort Myer, Virginia</td>\n      <td>38.877461</td>\n      <td>-77.080828</td>\n      <td>POINT (38.877461 -77.08082799848259)</td>\n    </tr>\n    <tr>\n      <th>2</th>\n      <td>2</td>\n      <td>1912-07-12</td>\n      <td>Military - U.S. Navy</td>\n      <td>Test flight</td>\n      <td>Dirigible</td>\n      <td>5.0</td>\n      <td>0.0</td>\n      <td>5.0</td>\n      <td>5.0</td>\n      <td>0.0</td>\n      <td>5.0</td>\n      <td>0.0</td>\n      <td>Atlantic City, New Jersey</td>\n      <td>39.364285</td>\n      <td>-74.422935</td>\n      <td>POINT (39.36428520000001 -74.42293509999998)</td>\n    </tr>\n    <tr>\n      <th>27</th>\n      <td>27</td>\n      <td>1919-08-02</td>\n      <td>Caproni Company</td>\n      <td>Venice  Taliedo</td>\n      <td>Caproni Ca.48</td>\n      <td>14.0</td>\n      <td>12.0</td>\n      <td>2.0</td>\n      <td>14.0</td>\n      <td>12.0</td>\n      <td>2.0</td>\n      <td>0.0</td>\n      <td>Verona, Italy</td>\n      <td>45.438496</td>\n      <td>10.992412</td>\n      <td>POINT (45.4384958 10.9924122)</td>\n    </tr>\n    <tr>\n      <th>32</th>\n      <td>32</td>\n      <td>1919-12-11</td>\n      <td>Aircraft Travel Transport</td>\n      <td>Paris - Hounslow</td>\n      <td>de Havilland DH-4</td>\n      <td>1.0</td>\n      <td>1.0</td>\n      <td>1.0</td>\n      <td>1.0</td>\n      <td>1.0</td>\n      <td>1.0</td>\n      <td>0.0</td>\n      <td>Catherham, Surrey, UK</td>\n      <td>51.253434</td>\n      <td>-0.474562</td>\n      <td>POINT (51.25343400000001 -0.474562)</td>\n    </tr>\n    <tr>\n      <th>34</th>\n      <td>34</td>\n      <td>1920-03-30</td>\n      <td>US Aerial Mail Service</td>\n      <td>Washington - Newark</td>\n      <td>De Havilland DH-4</td>\n      <td>1.0</td>\n      <td>0.0</td>\n      <td>1.0</td>\n      <td>1.0</td>\n      <td>0.0</td>\n      <td>1.0</td>\n      <td>0.0</td>\n      <td>Newark, New Jersey</td>\n      <td>40.735657</td>\n      <td>-74.172367</td>\n      <td>POINT (40.735657 -74.1723667)</td>\n    </tr>\n  </tbody>\n</table>\n</div>"
     },
     "metadata": {},
     "execution_count": 9
    }
   ],
   "source": [
    "cln_data[\"Date\"] = pd.to_datetime(cln_data[\"Date\"], format='%d/%m/%Y')\n",
    "cln_data.head(5)"
   ]
  },
  {
   "cell_type": "code",
   "execution_count": 10,
   "metadata": {},
   "outputs": [
    {
     "output_type": "execute_result",
     "data": {
      "text/plain": [
       "      Unnamed: 0       Date                                 Operator  \\\n",
       "0              0 1908-09-17                     Military - U.S. Army   \n",
       "2              2 1912-07-12                     Military - U.S. Navy   \n",
       "27            27 1919-08-02                          Caproni Company   \n",
       "32            32 1919-12-11                Aircraft Travel Transport   \n",
       "34            34 1920-03-30                   US Aerial Mail Service   \n",
       "...          ...        ...                                      ...   \n",
       "4962        4962 2019-04-16              Archipelagos Service Aereos   \n",
       "4963        4963 2019-05-05                  TVPX Aircraft Solutions   \n",
       "4964        4964 2019-05-05  Aeroflot Russian International Airlines   \n",
       "4965        4965 2019-06-03              Military - Indian Air Force   \n",
       "4966        4966 2019-07-30                 Military - Pakistan Army   \n",
       "\n",
       "                          Route                                   AC Type  \\\n",
       "0                 Demonstration                          Wright Flyer III   \n",
       "2                   Test flight                                 Dirigible   \n",
       "27              Venice  Taliedo                             Caproni Ca.48   \n",
       "32             Paris - Hounslow                         de Havilland DH-4   \n",
       "34          Washington - Newark                         De Havilland DH-4   \n",
       "...                         ...                                       ...   \n",
       "4962     Puerto Montt - Ayacara  Pilatus-Britten Norman BN-2B-27 Islander   \n",
       "4963      Las Vegas - Monterrey           Canadair CL-600-2B16-Challenger   \n",
       "4964          Moscow - Murmansk                   Sukhoi Superjet-100-95B   \n",
       "4965   Jorhat-Rowriah - Mechuka                             Antonov An-32   \n",
       "4966                   Training                  Beechcraft B300 King Air   \n",
       "\n",
       "      Aboard  Aboard Passengers  Aboard Crew  Fatalities  \\\n",
       "0        2.0                1.0          1.0         1.0   \n",
       "2        5.0                0.0          5.0         5.0   \n",
       "27      14.0               12.0          2.0        14.0   \n",
       "32       1.0                1.0          1.0         1.0   \n",
       "34       1.0                0.0          1.0         1.0   \n",
       "...      ...                ...          ...         ...   \n",
       "4962     6.0                5.0          1.0         6.0   \n",
       "4963    13.0               11.0          2.0        13.0   \n",
       "4964    78.0               73.0          5.0        41.0   \n",
       "4965    13.0                5.0          8.0        13.0   \n",
       "4966     5.0                0.0          5.0         5.0   \n",
       "\n",
       "      Fatalities Passengers  Fatalities Crew  Ground  \\\n",
       "0                       1.0              0.0     0.0   \n",
       "2                       0.0              5.0     0.0   \n",
       "27                     12.0              2.0     0.0   \n",
       "32                      1.0              1.0     0.0   \n",
       "34                      0.0              1.0     0.0   \n",
       "...                     ...              ...     ...   \n",
       "4962                    5.0              1.0     0.0   \n",
       "4963                   11.0              2.0     0.0   \n",
       "4964                   40.0              1.0     0.0   \n",
       "4965                    5.0              8.0     0.0   \n",
       "4966                    0.0              5.0    14.0   \n",
       "\n",
       "                       Location   Latitude  Longitude  \\\n",
       "0           Fort Myer, Virginia  38.877461 -77.080828   \n",
       "2     Atlantic City, New Jersey  39.364285 -74.422935   \n",
       "27                Verona, Italy  45.438496  10.992412   \n",
       "32        Catherham, Surrey, UK  51.253434  -0.474562   \n",
       "34           Newark, New Jersey  40.735657 -74.172367   \n",
       "...                         ...        ...        ...   \n",
       "4962        Puerto Montt, Chile -41.471812 -72.939621   \n",
       "4963           Monclava, Mexico -33.961279  18.656969   \n",
       "4964             Moscow, Russia  55.750446  37.617494   \n",
       "4965                Lipo, India   4.174020  32.834960   \n",
       "4966          Rawalpindi, India  30.929230  74.621281   \n",
       "\n",
       "                                          geometry  \n",
       "0             POINT (38.877461 -77.08082799848259)  \n",
       "2     POINT (39.36428520000001 -74.42293509999998)  \n",
       "27                   POINT (45.4384958 10.9924122)  \n",
       "32             POINT (51.25343400000001 -0.474562)  \n",
       "34                   POINT (40.735657 -74.1723667)  \n",
       "...                                            ...  \n",
       "4962                POINT (-41.4718121 -72.939621)  \n",
       "4963                POINT (-33.9612794 18.6569689)  \n",
       "4964                 POINT (55.7504461 37.6174943)  \n",
       "4965                      POINT (4.17402 32.83496)  \n",
       "4966                 POINT (30.9292303 74.6212807)  \n",
       "\n",
       "[4090 rows x 16 columns]"
      ],
      "text/html": "<div>\n<style scoped>\n    .dataframe tbody tr th:only-of-type {\n        vertical-align: middle;\n    }\n\n    .dataframe tbody tr th {\n        vertical-align: top;\n    }\n\n    .dataframe thead th {\n        text-align: right;\n    }\n</style>\n<table border=\"1\" class=\"dataframe\">\n  <thead>\n    <tr style=\"text-align: right;\">\n      <th></th>\n      <th>Unnamed: 0</th>\n      <th>Date</th>\n      <th>Operator</th>\n      <th>Route</th>\n      <th>AC Type</th>\n      <th>Aboard</th>\n      <th>Aboard Passengers</th>\n      <th>Aboard Crew</th>\n      <th>Fatalities</th>\n      <th>Fatalities Passengers</th>\n      <th>Fatalities Crew</th>\n      <th>Ground</th>\n      <th>Location</th>\n      <th>Latitude</th>\n      <th>Longitude</th>\n      <th>geometry</th>\n    </tr>\n  </thead>\n  <tbody>\n    <tr>\n      <th>0</th>\n      <td>0</td>\n      <td>1908-09-17</td>\n      <td>Military - U.S. Army</td>\n      <td>Demonstration</td>\n      <td>Wright Flyer III</td>\n      <td>2.0</td>\n      <td>1.0</td>\n      <td>1.0</td>\n      <td>1.0</td>\n      <td>1.0</td>\n      <td>0.0</td>\n      <td>0.0</td>\n      <td>Fort Myer, Virginia</td>\n      <td>38.877461</td>\n      <td>-77.080828</td>\n      <td>POINT (38.877461 -77.08082799848259)</td>\n    </tr>\n    <tr>\n      <th>2</th>\n      <td>2</td>\n      <td>1912-07-12</td>\n      <td>Military - U.S. Navy</td>\n      <td>Test flight</td>\n      <td>Dirigible</td>\n      <td>5.0</td>\n      <td>0.0</td>\n      <td>5.0</td>\n      <td>5.0</td>\n      <td>0.0</td>\n      <td>5.0</td>\n      <td>0.0</td>\n      <td>Atlantic City, New Jersey</td>\n      <td>39.364285</td>\n      <td>-74.422935</td>\n      <td>POINT (39.36428520000001 -74.42293509999998)</td>\n    </tr>\n    <tr>\n      <th>27</th>\n      <td>27</td>\n      <td>1919-08-02</td>\n      <td>Caproni Company</td>\n      <td>Venice  Taliedo</td>\n      <td>Caproni Ca.48</td>\n      <td>14.0</td>\n      <td>12.0</td>\n      <td>2.0</td>\n      <td>14.0</td>\n      <td>12.0</td>\n      <td>2.0</td>\n      <td>0.0</td>\n      <td>Verona, Italy</td>\n      <td>45.438496</td>\n      <td>10.992412</td>\n      <td>POINT (45.4384958 10.9924122)</td>\n    </tr>\n    <tr>\n      <th>32</th>\n      <td>32</td>\n      <td>1919-12-11</td>\n      <td>Aircraft Travel Transport</td>\n      <td>Paris - Hounslow</td>\n      <td>de Havilland DH-4</td>\n      <td>1.0</td>\n      <td>1.0</td>\n      <td>1.0</td>\n      <td>1.0</td>\n      <td>1.0</td>\n      <td>1.0</td>\n      <td>0.0</td>\n      <td>Catherham, Surrey, UK</td>\n      <td>51.253434</td>\n      <td>-0.474562</td>\n      <td>POINT (51.25343400000001 -0.474562)</td>\n    </tr>\n    <tr>\n      <th>34</th>\n      <td>34</td>\n      <td>1920-03-30</td>\n      <td>US Aerial Mail Service</td>\n      <td>Washington - Newark</td>\n      <td>De Havilland DH-4</td>\n      <td>1.0</td>\n      <td>0.0</td>\n      <td>1.0</td>\n      <td>1.0</td>\n      <td>0.0</td>\n      <td>1.0</td>\n      <td>0.0</td>\n      <td>Newark, New Jersey</td>\n      <td>40.735657</td>\n      <td>-74.172367</td>\n      <td>POINT (40.735657 -74.1723667)</td>\n    </tr>\n    <tr>\n      <th>...</th>\n      <td>...</td>\n      <td>...</td>\n      <td>...</td>\n      <td>...</td>\n      <td>...</td>\n      <td>...</td>\n      <td>...</td>\n      <td>...</td>\n      <td>...</td>\n      <td>...</td>\n      <td>...</td>\n      <td>...</td>\n      <td>...</td>\n      <td>...</td>\n      <td>...</td>\n      <td>...</td>\n    </tr>\n    <tr>\n      <th>4962</th>\n      <td>4962</td>\n      <td>2019-04-16</td>\n      <td>Archipelagos Service Aereos</td>\n      <td>Puerto Montt - Ayacara</td>\n      <td>Pilatus-Britten Norman BN-2B-27 Islander</td>\n      <td>6.0</td>\n      <td>5.0</td>\n      <td>1.0</td>\n      <td>6.0</td>\n      <td>5.0</td>\n      <td>1.0</td>\n      <td>0.0</td>\n      <td>Puerto Montt, Chile</td>\n      <td>-41.471812</td>\n      <td>-72.939621</td>\n      <td>POINT (-41.4718121 -72.939621)</td>\n    </tr>\n    <tr>\n      <th>4963</th>\n      <td>4963</td>\n      <td>2019-05-05</td>\n      <td>TVPX Aircraft Solutions</td>\n      <td>Las Vegas - Monterrey</td>\n      <td>Canadair CL-600-2B16-Challenger</td>\n      <td>13.0</td>\n      <td>11.0</td>\n      <td>2.0</td>\n      <td>13.0</td>\n      <td>11.0</td>\n      <td>2.0</td>\n      <td>0.0</td>\n      <td>Monclava, Mexico</td>\n      <td>-33.961279</td>\n      <td>18.656969</td>\n      <td>POINT (-33.9612794 18.6569689)</td>\n    </tr>\n    <tr>\n      <th>4964</th>\n      <td>4964</td>\n      <td>2019-05-05</td>\n      <td>Aeroflot Russian International Airlines</td>\n      <td>Moscow - Murmansk</td>\n      <td>Sukhoi Superjet-100-95B</td>\n      <td>78.0</td>\n      <td>73.0</td>\n      <td>5.0</td>\n      <td>41.0</td>\n      <td>40.0</td>\n      <td>1.0</td>\n      <td>0.0</td>\n      <td>Moscow, Russia</td>\n      <td>55.750446</td>\n      <td>37.617494</td>\n      <td>POINT (55.7504461 37.6174943)</td>\n    </tr>\n    <tr>\n      <th>4965</th>\n      <td>4965</td>\n      <td>2019-06-03</td>\n      <td>Military - Indian Air Force</td>\n      <td>Jorhat-Rowriah - Mechuka</td>\n      <td>Antonov An-32</td>\n      <td>13.0</td>\n      <td>5.0</td>\n      <td>8.0</td>\n      <td>13.0</td>\n      <td>5.0</td>\n      <td>8.0</td>\n      <td>0.0</td>\n      <td>Lipo, India</td>\n      <td>4.174020</td>\n      <td>32.834960</td>\n      <td>POINT (4.17402 32.83496)</td>\n    </tr>\n    <tr>\n      <th>4966</th>\n      <td>4966</td>\n      <td>2019-07-30</td>\n      <td>Military - Pakistan Army</td>\n      <td>Training</td>\n      <td>Beechcraft B300 King Air</td>\n      <td>5.0</td>\n      <td>0.0</td>\n      <td>5.0</td>\n      <td>5.0</td>\n      <td>0.0</td>\n      <td>5.0</td>\n      <td>14.0</td>\n      <td>Rawalpindi, India</td>\n      <td>30.929230</td>\n      <td>74.621281</td>\n      <td>POINT (30.9292303 74.6212807)</td>\n    </tr>\n  </tbody>\n</table>\n<p>4090 rows × 16 columns</p>\n</div>"
     },
     "metadata": {},
     "execution_count": 10
    }
   ],
   "source": [
    "cln_data.sort_values(by=[\"Date\"])"
   ]
  },
  {
   "cell_type": "code",
   "execution_count": 11,
   "metadata": {},
   "outputs": [
    {
     "output_type": "execute_result",
     "data": {
      "text/plain": [
       "<bound method Series.min of 0      1908-09-17\n",
       "2      1912-07-12\n",
       "27     1919-08-02\n",
       "32     1919-12-11\n",
       "34     1920-03-30\n",
       "          ...    \n",
       "4962   2019-04-16\n",
       "4963   2019-05-05\n",
       "4964   2019-05-05\n",
       "4965   2019-06-03\n",
       "4966   2019-07-30\n",
       "Name: Date, Length: 4090, dtype: datetime64[ns]>"
      ]
     },
     "metadata": {},
     "execution_count": 11
    }
   ],
   "source": [
    "cln_data[\"Date\"].min"
   ]
  },
  {
   "cell_type": "code",
   "execution_count": 12,
   "metadata": {},
   "outputs": [
    {
     "output_type": "stream",
     "name": "stdout",
     "text": [
      "<class 'pandas.core.frame.DataFrame'>\nInt64Index: 4090 entries, 0 to 4966\nData columns (total 16 columns):\n #   Column                 Non-Null Count  Dtype         \n---  ------                 --------------  -----         \n 0   Unnamed: 0             4090 non-null   int64         \n 1   Date                   4090 non-null   datetime64[ns]\n 2   Operator               4090 non-null   object        \n 3   Route                  4090 non-null   object        \n 4   AC Type                4090 non-null   object        \n 5   Aboard                 4090 non-null   float64       \n 6   Aboard Passengers      4090 non-null   float64       \n 7   Aboard Crew            4090 non-null   float64       \n 8   Fatalities             4090 non-null   float64       \n 9   Fatalities Passengers  4090 non-null   float64       \n 10  Fatalities Crew        4090 non-null   float64       \n 11  Ground                 4090 non-null   float64       \n 12  Location               4090 non-null   object        \n 13  Latitude               4090 non-null   float64       \n 14  Longitude              4090 non-null   float64       \n 15  geometry               4090 non-null   object        \ndtypes: datetime64[ns](1), float64(9), int64(1), object(5)\nmemory usage: 543.2+ KB\n"
     ]
    }
   ],
   "source": [
    "cln_data.info()"
   ]
  },
  {
   "cell_type": "code",
   "execution_count": null,
   "metadata": {},
   "outputs": [],
   "source": []
  },
  {
   "cell_type": "code",
   "execution_count": null,
   "metadata": {},
   "outputs": [],
   "source": []
  }
 ]
}