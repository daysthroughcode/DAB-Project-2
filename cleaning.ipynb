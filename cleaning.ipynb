{
 "metadata": {
  "language_info": {
   "codemirror_mode": {
    "name": "ipython",
    "version": 3
   },
   "file_extension": ".py",
   "mimetype": "text/x-python",
   "name": "python",
   "nbconvert_exporter": "python",
   "pygments_lexer": "ipython3",
   "version": "3.8.3-final"
  },
  "orig_nbformat": 2,
  "kernelspec": {
   "name": "python3",
   "display_name": "Python 3",
   "language": "python"
  }
 },
 "nbformat": 4,
 "nbformat_minor": 2,
 "cells": [
  {
   "cell_type": "code",
   "execution_count": 1,
   "metadata": {},
   "outputs": [],
   "source": [
    "import pandas as pd"
   ]
  },
  {
   "cell_type": "code",
   "execution_count": 2,
   "metadata": {},
   "outputs": [],
   "source": [
    "path = \"0-Data/AirplaneCrashesFinal.csv\""
   ]
  },
  {
   "cell_type": "code",
   "execution_count": 7,
   "metadata": {},
   "outputs": [],
   "source": [
    "aircraft_data = pd.read_csv(path)"
   ]
  },
  {
   "cell_type": "code",
   "execution_count": 8,
   "metadata": {},
   "outputs": [
    {
     "output_type": "execute_result",
     "data": {
      "text/plain": [
       "   Unnamed: 0        Date   Time                Operator Flight #  \\\n",
       "0           0  17/09/1908  17:18    Military - U.S. Army      NaN   \n",
       "1           1   7/09/1909    NaN                     NaN      NaN   \n",
       "2           2  12/07/1912   6:30    Military - U.S. Navy      NaN   \n",
       "3           3   6/08/1913    NaN                 Private      NaN   \n",
       "4           4   9/09/1913  18:30  Military - German Navy      NaN   \n",
       "\n",
       "           Route                 AC Type Registration cn/ln  Aboard  ...  \\\n",
       "0  Demonstration        Wright Flyer III          NaN     1     2.0  ...   \n",
       "1                         Wright Byplane          SC1   NaN     1.0  ...   \n",
       "2    Test flight               Dirigible          NaN   NaN     5.0  ...   \n",
       "3            NaN        Curtiss seaplane          NaN   NaN     1.0  ...   \n",
       "4            NaN  Zeppelin L-1 (airship)          NaN   NaN    20.0  ...   \n",
       "\n",
       "   Aboard Crew  Fatalities  Fatalities Passengers  Fatalities Crew  Ground  \\\n",
       "0          1.0         1.0                    1.0              0.0     0.0   \n",
       "1          1.0         1.0                    0.0              0.0     0.0   \n",
       "2          5.0         5.0                    0.0              5.0     0.0   \n",
       "3          1.0         1.0                    0.0              1.0     0.0   \n",
       "4          NaN        14.0                    NaN              NaN     0.0   \n",
       "\n",
       "                                             Summary  \\\n",
       "0  During a demonstration flight, a U.S. Army fly...   \n",
       "1  Eugene Lefebvre was the first pilot to ever be...   \n",
       "2  First U.S. dirigible Akron exploded just offsh...   \n",
       "3  The first fatal airplane accident in Canada oc...   \n",
       "4  The airship flew into a thunderstorm and encou...   \n",
       "\n",
       "                             Location   Latitude   Longitude  \\\n",
       "0                 Fort Myer, Virginia  38.877461  -77.080828   \n",
       "1             Juvisy-sur-Orge, France  48.690406    2.373809   \n",
       "2           Atlantic City, New Jersey  39.364285  -74.422935   \n",
       "3  Victoria, British Columbia, Canada  48.428318 -123.364953   \n",
       "4                       the North Sea  56.741234    2.891172   \n",
       "\n",
       "                                       geometry  \n",
       "0          POINT (38.877461 -77.08082799848259)  \n",
       "1                   POINT (48.6904063 2.373809)  \n",
       "2  POINT (39.36428520000001 -74.42293509999998)  \n",
       "3               POINT (48.4283182 -123.3649533)  \n",
       "4          POINT (56.74123355 2.89117171668805)  \n",
       "\n",
       "[5 rows x 21 columns]"
      ],
      "text/html": "<div>\n<style scoped>\n    .dataframe tbody tr th:only-of-type {\n        vertical-align: middle;\n    }\n\n    .dataframe tbody tr th {\n        vertical-align: top;\n    }\n\n    .dataframe thead th {\n        text-align: right;\n    }\n</style>\n<table border=\"1\" class=\"dataframe\">\n  <thead>\n    <tr style=\"text-align: right;\">\n      <th></th>\n      <th>Unnamed: 0</th>\n      <th>Date</th>\n      <th>Time</th>\n      <th>Operator</th>\n      <th>Flight #</th>\n      <th>Route</th>\n      <th>AC Type</th>\n      <th>Registration</th>\n      <th>cn/ln</th>\n      <th>Aboard</th>\n      <th>...</th>\n      <th>Aboard Crew</th>\n      <th>Fatalities</th>\n      <th>Fatalities Passengers</th>\n      <th>Fatalities Crew</th>\n      <th>Ground</th>\n      <th>Summary</th>\n      <th>Location</th>\n      <th>Latitude</th>\n      <th>Longitude</th>\n      <th>geometry</th>\n    </tr>\n  </thead>\n  <tbody>\n    <tr>\n      <th>0</th>\n      <td>0</td>\n      <td>17/09/1908</td>\n      <td>17:18</td>\n      <td>Military - U.S. Army</td>\n      <td>NaN</td>\n      <td>Demonstration</td>\n      <td>Wright Flyer III</td>\n      <td>NaN</td>\n      <td>1</td>\n      <td>2.0</td>\n      <td>...</td>\n      <td>1.0</td>\n      <td>1.0</td>\n      <td>1.0</td>\n      <td>0.0</td>\n      <td>0.0</td>\n      <td>During a demonstration flight, a U.S. Army fly...</td>\n      <td>Fort Myer, Virginia</td>\n      <td>38.877461</td>\n      <td>-77.080828</td>\n      <td>POINT (38.877461 -77.08082799848259)</td>\n    </tr>\n    <tr>\n      <th>1</th>\n      <td>1</td>\n      <td>7/09/1909</td>\n      <td>NaN</td>\n      <td>NaN</td>\n      <td>NaN</td>\n      <td></td>\n      <td>Wright Byplane</td>\n      <td>SC1</td>\n      <td>NaN</td>\n      <td>1.0</td>\n      <td>...</td>\n      <td>1.0</td>\n      <td>1.0</td>\n      <td>0.0</td>\n      <td>0.0</td>\n      <td>0.0</td>\n      <td>Eugene Lefebvre was the first pilot to ever be...</td>\n      <td>Juvisy-sur-Orge, France</td>\n      <td>48.690406</td>\n      <td>2.373809</td>\n      <td>POINT (48.6904063 2.373809)</td>\n    </tr>\n    <tr>\n      <th>2</th>\n      <td>2</td>\n      <td>12/07/1912</td>\n      <td>6:30</td>\n      <td>Military - U.S. Navy</td>\n      <td>NaN</td>\n      <td>Test flight</td>\n      <td>Dirigible</td>\n      <td>NaN</td>\n      <td>NaN</td>\n      <td>5.0</td>\n      <td>...</td>\n      <td>5.0</td>\n      <td>5.0</td>\n      <td>0.0</td>\n      <td>5.0</td>\n      <td>0.0</td>\n      <td>First U.S. dirigible Akron exploded just offsh...</td>\n      <td>Atlantic City, New Jersey</td>\n      <td>39.364285</td>\n      <td>-74.422935</td>\n      <td>POINT (39.36428520000001 -74.42293509999998)</td>\n    </tr>\n    <tr>\n      <th>3</th>\n      <td>3</td>\n      <td>6/08/1913</td>\n      <td>NaN</td>\n      <td>Private</td>\n      <td>NaN</td>\n      <td>NaN</td>\n      <td>Curtiss seaplane</td>\n      <td>NaN</td>\n      <td>NaN</td>\n      <td>1.0</td>\n      <td>...</td>\n      <td>1.0</td>\n      <td>1.0</td>\n      <td>0.0</td>\n      <td>1.0</td>\n      <td>0.0</td>\n      <td>The first fatal airplane accident in Canada oc...</td>\n      <td>Victoria, British Columbia, Canada</td>\n      <td>48.428318</td>\n      <td>-123.364953</td>\n      <td>POINT (48.4283182 -123.3649533)</td>\n    </tr>\n    <tr>\n      <th>4</th>\n      <td>4</td>\n      <td>9/09/1913</td>\n      <td>18:30</td>\n      <td>Military - German Navy</td>\n      <td>NaN</td>\n      <td>NaN</td>\n      <td>Zeppelin L-1 (airship)</td>\n      <td>NaN</td>\n      <td>NaN</td>\n      <td>20.0</td>\n      <td>...</td>\n      <td>NaN</td>\n      <td>14.0</td>\n      <td>NaN</td>\n      <td>NaN</td>\n      <td>0.0</td>\n      <td>The airship flew into a thunderstorm and encou...</td>\n      <td>the North Sea</td>\n      <td>56.741234</td>\n      <td>2.891172</td>\n      <td>POINT (56.74123355 2.89117171668805)</td>\n    </tr>\n  </tbody>\n</table>\n<p>5 rows × 21 columns</p>\n</div>"
     },
     "metadata": {},
     "execution_count": 8
    }
   ],
   "source": [
    "aircraft_data.head(5)"
   ]
  },
  {
   "cell_type": "code",
   "execution_count": 17,
   "metadata": {},
   "outputs": [
    {
     "output_type": "execute_result",
     "data": {
      "text/plain": [
       "(1231, 21)"
      ]
     },
     "metadata": {},
     "execution_count": 17
    }
   ],
   "source": [
    "working_data = aircraft_data\n",
    "working_data.shape"
   ]
  },
  {
   "cell_type": "code",
   "execution_count": 16,
   "metadata": {},
   "outputs": [
    {
     "output_type": "execute_result",
     "data": {
      "text/plain": [
       "     Unnamed: 0        Date   Time                           Operator  \\\n",
       "217         217  19/01/1930  18:23                    Maddux Airlines   \n",
       "247         247  31/03/1931  10:45  Trans Continental and Western Air   \n",
       "348         348  31/08/1934  22:45                Rapid Air Transport   \n",
       "370         370   6/05/1935   3:30  Trans Continental and Western Air   \n",
       "384         384  14/08/1935  23:45                    Delta Air Lines   \n",
       "\n",
       "    Flight #                                              Route  \\\n",
       "217        7                Aqua Caliente, Mexico - Los Angeles   \n",
       "247      599               Kansas City - Wichita -  Los Angeles   \n",
       "348        6                 Kansas City - Saint Joseph - Omaha   \n",
       "370        6  Los Angeles - Albuquerque - Kanasas City -  Wa...   \n",
       "384        4                                  Dallas -  Atlanta   \n",
       "\n",
       "                   AC Type Registration     cn/ln  Aboard  ...  Aboard Crew  \\\n",
       "217  Ford 5-AT-C Tri Motor       NC9689  5-AT-046    16.0  ...          2.0   \n",
       "247   Fokker F10A Trimotor       NC-999      1063     8.0  ...          2.0   \n",
       "348      Stinson  SM-6000B      NC11118      5004     5.0  ...          1.0   \n",
       "370       Douglas DC-2-112      NC13785      1295    14.0  ...          2.0   \n",
       "384        Stinson Model A      NC14599      9103     4.0  ...          1.0   \n",
       "\n",
       "     Fatalities  Fatalities Passengers  Fatalities Crew  Ground  \\\n",
       "217        16.0                   14.0              2.0     0.0   \n",
       "247         8.0                    6.0              2.0     0.0   \n",
       "348         5.0                    4.0              1.0     0.0   \n",
       "370         5.0                    3.0              2.0     0.0   \n",
       "384         4.0                    3.0              1.0     0.0   \n",
       "\n",
       "                                               Summary               Location  \\\n",
       "217  While en route to Los Angeles, the pilot, flyi...  Oceanside, California   \n",
       "247  Shortly after taking off from Kansas City, one...         Bazaar, Kansas   \n",
       "348  The plane crashed about 11 miles from St. Jose...     Amazonia, Missouri   \n",
       "370  The plane crashed while en route from Albuquer...      Atlanta, Missouri   \n",
       "384  Crashed 3 miles south of Gilmer. The outboard ...          Gilmer, Texas   \n",
       "\n",
       "      Latitude   Longitude                               geometry  \n",
       "217  33.195870 -117.379483        POINT (33.1958696 -117.3794834)  \n",
       "247  38.271960  -96.535285  POINT (38.2719604 -96.53528540000001)  \n",
       "348  39.887000  -94.892021          POINT (39.8870003 -94.892021)  \n",
       "370  39.898646  -92.481021          POINT (39.898646 -92.4810208)  \n",
       "384  32.731226  -94.946931         POINT (32.7312256 -94.9469309)  \n",
       "\n",
       "[5 rows x 21 columns]"
      ],
      "text/html": "<div>\n<style scoped>\n    .dataframe tbody tr th:only-of-type {\n        vertical-align: middle;\n    }\n\n    .dataframe tbody tr th {\n        vertical-align: top;\n    }\n\n    .dataframe thead th {\n        text-align: right;\n    }\n</style>\n<table border=\"1\" class=\"dataframe\">\n  <thead>\n    <tr style=\"text-align: right;\">\n      <th></th>\n      <th>Unnamed: 0</th>\n      <th>Date</th>\n      <th>Time</th>\n      <th>Operator</th>\n      <th>Flight #</th>\n      <th>Route</th>\n      <th>AC Type</th>\n      <th>Registration</th>\n      <th>cn/ln</th>\n      <th>Aboard</th>\n      <th>...</th>\n      <th>Aboard Crew</th>\n      <th>Fatalities</th>\n      <th>Fatalities Passengers</th>\n      <th>Fatalities Crew</th>\n      <th>Ground</th>\n      <th>Summary</th>\n      <th>Location</th>\n      <th>Latitude</th>\n      <th>Longitude</th>\n      <th>geometry</th>\n    </tr>\n  </thead>\n  <tbody>\n    <tr>\n      <th>217</th>\n      <td>217</td>\n      <td>19/01/1930</td>\n      <td>18:23</td>\n      <td>Maddux Airlines</td>\n      <td>7</td>\n      <td>Aqua Caliente, Mexico - Los Angeles</td>\n      <td>Ford 5-AT-C Tri Motor</td>\n      <td>NC9689</td>\n      <td>5-AT-046</td>\n      <td>16.0</td>\n      <td>...</td>\n      <td>2.0</td>\n      <td>16.0</td>\n      <td>14.0</td>\n      <td>2.0</td>\n      <td>0.0</td>\n      <td>While en route to Los Angeles, the pilot, flyi...</td>\n      <td>Oceanside, California</td>\n      <td>33.195870</td>\n      <td>-117.379483</td>\n      <td>POINT (33.1958696 -117.3794834)</td>\n    </tr>\n    <tr>\n      <th>247</th>\n      <td>247</td>\n      <td>31/03/1931</td>\n      <td>10:45</td>\n      <td>Trans Continental and Western Air</td>\n      <td>599</td>\n      <td>Kansas City - Wichita -  Los Angeles</td>\n      <td>Fokker F10A Trimotor</td>\n      <td>NC-999</td>\n      <td>1063</td>\n      <td>8.0</td>\n      <td>...</td>\n      <td>2.0</td>\n      <td>8.0</td>\n      <td>6.0</td>\n      <td>2.0</td>\n      <td>0.0</td>\n      <td>Shortly after taking off from Kansas City, one...</td>\n      <td>Bazaar, Kansas</td>\n      <td>38.271960</td>\n      <td>-96.535285</td>\n      <td>POINT (38.2719604 -96.53528540000001)</td>\n    </tr>\n    <tr>\n      <th>348</th>\n      <td>348</td>\n      <td>31/08/1934</td>\n      <td>22:45</td>\n      <td>Rapid Air Transport</td>\n      <td>6</td>\n      <td>Kansas City - Saint Joseph - Omaha</td>\n      <td>Stinson  SM-6000B</td>\n      <td>NC11118</td>\n      <td>5004</td>\n      <td>5.0</td>\n      <td>...</td>\n      <td>1.0</td>\n      <td>5.0</td>\n      <td>4.0</td>\n      <td>1.0</td>\n      <td>0.0</td>\n      <td>The plane crashed about 11 miles from St. Jose...</td>\n      <td>Amazonia, Missouri</td>\n      <td>39.887000</td>\n      <td>-94.892021</td>\n      <td>POINT (39.8870003 -94.892021)</td>\n    </tr>\n    <tr>\n      <th>370</th>\n      <td>370</td>\n      <td>6/05/1935</td>\n      <td>3:30</td>\n      <td>Trans Continental and Western Air</td>\n      <td>6</td>\n      <td>Los Angeles - Albuquerque - Kanasas City -  Wa...</td>\n      <td>Douglas DC-2-112</td>\n      <td>NC13785</td>\n      <td>1295</td>\n      <td>14.0</td>\n      <td>...</td>\n      <td>2.0</td>\n      <td>5.0</td>\n      <td>3.0</td>\n      <td>2.0</td>\n      <td>0.0</td>\n      <td>The plane crashed while en route from Albuquer...</td>\n      <td>Atlanta, Missouri</td>\n      <td>39.898646</td>\n      <td>-92.481021</td>\n      <td>POINT (39.898646 -92.4810208)</td>\n    </tr>\n    <tr>\n      <th>384</th>\n      <td>384</td>\n      <td>14/08/1935</td>\n      <td>23:45</td>\n      <td>Delta Air Lines</td>\n      <td>4</td>\n      <td>Dallas -  Atlanta</td>\n      <td>Stinson Model A</td>\n      <td>NC14599</td>\n      <td>9103</td>\n      <td>4.0</td>\n      <td>...</td>\n      <td>1.0</td>\n      <td>4.0</td>\n      <td>3.0</td>\n      <td>1.0</td>\n      <td>0.0</td>\n      <td>Crashed 3 miles south of Gilmer. The outboard ...</td>\n      <td>Gilmer, Texas</td>\n      <td>32.731226</td>\n      <td>-94.946931</td>\n      <td>POINT (32.7312256 -94.9469309)</td>\n    </tr>\n  </tbody>\n</table>\n<p>5 rows × 21 columns</p>\n</div>"
     },
     "metadata": {},
     "execution_count": 16
    }
   ],
   "source": [
    "working_data.[\"Fatality%\"] = "
   ]
  },
  {
   "cell_type": "code",
   "execution_count": null,
   "metadata": {},
   "outputs": [],
   "source": []
  }
 ]
}